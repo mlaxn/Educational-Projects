{
 "cells": [
  {
   "cell_type": "markdown",
   "metadata": {},
   "source": [
    "# CSE 4334/5334 Programming Assignment P3"
   ]
  },
  {
   "cell_type": "markdown",
   "metadata": {},
   "source": [
    "## Fall 2018\n",
    "\n",
    "## Due: 11:59pm Central Time, Friday, December 14, 2018"
   ]
  },
  {
   "cell_type": "markdown",
   "metadata": {},
   "source": [
    "The instructions of this assignment are written in an .ipynb file. You can use the following commands to install the Jupyter notebook viewer. \"pip\" is a command for installing Python packages. You are required to use \"Python 3.6.x\" (any version of Python equal to or greater than version Python 3.6.0) in this project.\n",
    "\n",
    "    pip install jupyter\n",
    "\n",
    "To run the Jupyter notebook viewer, use the following command:\n",
    "\n",
    "    jupyter notebook P3.ipynb\n",
    "\n",
    "The above command will start a webservice at http://localhost:8888/ and display the instructions in the '.ipynb' file."
   ]
  },
  {
   "cell_type": "markdown",
   "metadata": {},
   "source": [
    "## Requirements"
   ]
  },
  {
   "cell_type": "markdown",
   "metadata": {},
   "source": [
    "* This assignment must be done individually. You must implement the whole assignment by yourself. Academic dishonety will have serious consequences.\n",
    "* You can discuss topics related to the assignment with your fellow students. But you are not allowed to discuss/share your solution and code."
   ]
  },
  {
   "cell_type": "markdown",
   "metadata": {},
   "source": [
    "## Assignment Files"
   ]
  },
  {
   "cell_type": "markdown",
   "metadata": {},
   "source": [
    "All the files for this assignment can be downloaded from Blackboard (\"Course Materials\" > \"Programming Assignments\" > \"Programming Assignment 3 (P3)\" > \"Attached Files\").\n",
    "\n",
    "1. This instruction file itself \"P3.ipynb\"\n",
    "2. Data file \"1991-2004-nba.dat\"\n",
    "3. A skeleton of code \"P3_skeleton.py\"\n",
    "4. Grading rubrics \"rubrics_P3.txt\""
   ]
  },
  {
   "cell_type": "markdown",
   "metadata": {},
   "source": [
    "## Programming Language"
   ]
  },
  {
   "cell_type": "markdown",
   "metadata": {},
   "source": [
    "1. We will test your code under the particular version of Python 3.6.x. So make sure you develop your code using the same version. \n",
    "\n",
    "2. You are free to use anything from the Python Standard Library that comes with Python 3.6.x (https://docs.python.org/3.6/library/).\n",
    "\n",
    "3. <b>Other than the Python Standard Library, you are NOT allowed to use any non-standard Python package.</b>"
   ]
  },
  {
   "cell_type": "markdown",
   "metadata": {
    "collapsed": true
   },
   "source": [
    "## Finding Prominent Streaks in NBA Boxscores"
   ]
  },
  {
   "cell_type": "markdown",
   "metadata": {},
   "source": [
    "### 1. Description of Task"
   ]
  },
  {
   "cell_type": "markdown",
   "metadata": {},
   "source": [
    "You code should accomplish the following tasks:\n",
    "\n",
    "(1) <b>Read</b> the text file 1991-2004-nba.dat. In this file, each line is the boxscore of an NBA player in an NBA game. The records are already sorted by players and then by dates, i.e., all the boxscores of a player are in consecutive rows, in chronological order.  \n",
    "\n",
    "You only need to use the first column (player ID) and the last column (number of points by the player in a game) of this file. \n",
    "\n",
    "We provide a skeleton file \"P3_skeleton.py\" to you. It already has the code for reading from the data file.\n",
    "\n",
    "(2) <b>Compute</b> the prominent streaks in this dataset. For each player, the sequence has all the points the player made in his games. There are multiple sequences, one for each player. Each prominent streak is a sub-sequence of a player's sequence. It must not be dominated by any other streak in any player's sequence. \n",
    "\n",
    "For the concepts and algorithms of prominent streaks, refer to our lecture vidoes, slides, as well as the following two papers.\n",
    "\n",
    "Xiao Jiang, Chengkai Li, Ping Luo, Min Wang, and Yong Yu. Prominent Streak Discovery in Sequence Data. In Proceedings of the 17th ACM SIGKDD International Conference on Knowledge Discovery and Data Mining (KDD), pages 1280-1288, San Diego, California, USA, August 2011. (http://ranger.uta.edu/~cli/pubs/2011/streak-kdd11-jllwy-jun11.pdf)\n",
    "\n",
    "Gensheng Zhang, Xiao Jiang, Ping Luo, Min Wang, and Chengkai Li. Discovering General Prominent Streaks in Sequence Data. In ACM Transactions on Knowledge Discovery from Data (TKDD), 8(2): 9:1-9:37, June 2014. (http://ranger.uta.edu/~cli/pubs/2014/streak-tkdd-jllwy-sept13.pdf)"
   ]
  },
  {
   "cell_type": "markdown",
   "metadata": {},
   "source": [
    "### 2. Expected Output\n",
    "\n",
    "Your code should return the following results. Each prominent streak should be displayed in the format of (player ID, beginning index of the streak, length of the streak, minimum value in the streak). The beginning index provides the position of the left end of the streak. In a player's seequence, the index of the first element is 0. \n",
    "\n",
    "Note that the prominent streaks in the output can be in any order, depending on the particular way an implementation finds the prominent streaks.\n",
    "\n",
    "In a typical run, our solution code finishes computing prominent streaks in less than half a second on our computer. (Reading the data file itself takes 20-30 seconds.) When we test your code on the same computer, your code is expected to achieve the same efficiency, in order to be considered efficiently implemented. Note that an implementation of the brute-force baseline method took several mminutes to finish."
   ]
  },
  {
   "cell_type": "code",
   "execution_count": null,
   "metadata": {},
   "outputs": [],
   "source": [
    "Reading the data file takes  22.284526109695435  seconds.\n",
    "Computing prominent streaks takes  0.49631690979003906  seconds.\n",
    "[('BRYANKO01', 457, 4, 42), ('BRYANKO01', 457, 9, 40), ('BRYANKO01', 453, 13, 35), ('BRYANKO01', 453, 14, 32), ('BRYANKO01', 453, 16, 30), ('IVERSAL01', 305, 27, 26), ('IVERSAL01', 554, 2, 51), ('IVERSAL01', 550, 45, 21), ('IVERSAL01', 550, 57, 20), ('JACKSJI01', 0, 1185, 0), ('JAMISAN01', 107, 2, 51), ('JORDAMI01', 196, 17, 27), ('MALONKA01', 176, 159, 14), ('MALONKA01', 72, 263, 13), ('MALONKA01', 72, 357, 12), ('MALONKA01', 482, 96, 17), ('MALONKA01', 459, 119, 16), ('MALONKA01', 430, 149, 15), ('MALONKA01', 72, 527, 11), ('MALONKA01', 24, 575, 10), ('MALONKA01', 24, 758, 7), ('MALONKA01', 0, 866, 2), ('MCGRATR01', 380, 34, 24), ('ONEASH01', 373, 74, 19), ('ONEASH01', 353, 94, 18), ('ONEASH01', 0, 858, 6), ('ROBINDA01', 229, 1, 71), ('STOCKJO01', 0, 932, 1)]"
   ]
  },
  {
   "cell_type": "markdown",
   "metadata": {},
   "source": [
    "### 3. What to Submit\n",
    "\n",
    "You are required to submit a single .py file of your code. You are expected to use the code in P3_skeleton.py. You algorithm should be in function ''prominent_streaks(sequences)''. You have the freedom to define any other functions that you deem necessary. You shouldn't change any existing code in the file.  "
   ]
  },
  {
   "cell_type": "markdown",
   "metadata": {},
   "source": [
    "### 4. Grading Rubrics\n",
    "\n",
    "Your program will be evaluated on correctness, efficiency, and code quality.\n",
    "\n",
    "Make sure to thoroughly understand the grading rubrics in file \"rubrics_P3.txt\"."
   ]
  },
  {
   "cell_type": "code",
   "execution_count": null,
   "metadata": {},
   "outputs": [],
   "source": []
  }
 ],
 "metadata": {
  "anaconda-cloud": {},
  "kernelspec": {
   "display_name": "Python 3",
   "language": "python",
   "name": "python3"
  },
  "language_info": {
   "codemirror_mode": {
    "name": "ipython",
    "version": 3
   },
   "file_extension": ".py",
   "mimetype": "text/x-python",
   "name": "python",
   "nbconvert_exporter": "python",
   "pygments_lexer": "ipython3",
   "version": "3.6.1"
  },
  "latex_metadata": {
   "author": "Chengkai Li",
   "title": "CSE4334 P2"
  }
 },
 "nbformat": 4,
 "nbformat_minor": 1
}
